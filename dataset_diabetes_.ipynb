{
  "nbformat": 4,
  "nbformat_minor": 0,
  "metadata": {
    "colab": {
      "provenance": [],
      "authorship_tag": "ABX9TyN538X6tNXo4xcuZuoD4o+a",
      "include_colab_link": true
    },
    "kernelspec": {
      "name": "python3",
      "display_name": "Python 3"
    },
    "language_info": {
      "name": "python"
    }
  },
  "cells": [
    {
      "cell_type": "markdown",
      "metadata": {
        "id": "view-in-github",
        "colab_type": "text"
      },
      "source": [
        "<a href=\"https://colab.research.google.com/github/irenenjoki/machine-learning/blob/main/dataset_diabetes_.ipynb\" target=\"_parent\"><img src=\"https://colab.research.google.com/assets/colab-badge.svg\" alt=\"Open In Colab\"/></a>"
      ]
    },
    {
      "cell_type": "code",
      "execution_count": 1,
      "metadata": {
        "colab": {
          "base_uri": "https://localhost:8080/"
        },
        "id": "wIHxli8wGdox",
        "outputId": "951731a1-6fc3-4e8c-ca87-28bddb28394e"
      },
      "outputs": [
        {
          "output_type": "stream",
          "name": "stdout",
          "text": [
            "   Pregnancies  Glucose  BloodPressure  SkinThickness  Insulin   BMI  \\\n",
            "0            6      148             72             35        0  33.6   \n",
            "1            1       85             66             29        0  26.6   \n",
            "2            8      183             64              0        0  23.3   \n",
            "3            1       89             66             23       94  28.1   \n",
            "4            0      137             40             35      168  43.1   \n",
            "\n",
            "   DiabetesPedigreeFunction  Age  Outcome  \n",
            "0                     0.627   50        1  \n",
            "1                     0.351   31        0  \n",
            "2                     0.672   32        1  \n",
            "3                     0.167   21        0  \n",
            "4                     2.288   33        1  \n",
            "Pregnancies                 111\n",
            "Glucose                       5\n",
            "BloodPressure                35\n",
            "SkinThickness               227\n",
            "Insulin                     374\n",
            "BMI                          11\n",
            "DiabetesPedigreeFunction      0\n",
            "Age                           0\n",
            "Outcome                     500\n",
            "dtype: int64\n",
            "<class 'pandas.core.frame.DataFrame'>\n",
            "RangeIndex: 768 entries, 0 to 767\n",
            "Data columns (total 9 columns):\n",
            " #   Column                    Non-Null Count  Dtype  \n",
            "---  ------                    --------------  -----  \n",
            " 0   Pregnancies               768 non-null    int64  \n",
            " 1   Glucose                   763 non-null    float64\n",
            " 2   BloodPressure             733 non-null    float64\n",
            " 3   SkinThickness             541 non-null    float64\n",
            " 4   Insulin                   394 non-null    float64\n",
            " 5   BMI                       757 non-null    float64\n",
            " 6   DiabetesPedigreeFunction  768 non-null    float64\n",
            " 7   Age                       768 non-null    int64  \n",
            " 8   Outcome                   768 non-null    int64  \n",
            "dtypes: float64(6), int64(3)\n",
            "memory usage: 54.1 KB\n",
            "None\n",
            "<class 'pandas.core.frame.DataFrame'>\n",
            "RangeIndex: 768 entries, 0 to 767\n",
            "Data columns (total 9 columns):\n",
            " #   Column                    Non-Null Count  Dtype  \n",
            "---  ------                    --------------  -----  \n",
            " 0   Pregnancies               768 non-null    int64  \n",
            " 1   Glucose                   768 non-null    float64\n",
            " 2   BloodPressure             768 non-null    float64\n",
            " 3   SkinThickness             768 non-null    float64\n",
            " 4   Insulin                   768 non-null    float64\n",
            " 5   BMI                       768 non-null    float64\n",
            " 6   DiabetesPedigreeFunction  768 non-null    float64\n",
            " 7   Age                       768 non-null    int64  \n",
            " 8   Outcome                   768 non-null    int64  \n",
            "dtypes: float64(6), int64(3)\n",
            "memory usage: 54.1 KB\n",
            "None\n",
            "       Pregnancies     Glucose  BloodPressure  SkinThickness     Insulin  \\\n",
            "count   768.000000  768.000000     768.000000     768.000000  768.000000   \n",
            "mean      3.845052  121.656250      72.386719      29.108073  140.671875   \n",
            "std       3.369578   30.438286      12.096642       8.791221   86.383060   \n",
            "min       0.000000   44.000000      24.000000       7.000000   14.000000   \n",
            "25%       1.000000   99.750000      64.000000      25.000000  121.500000   \n",
            "50%       3.000000  117.000000      72.000000      29.000000  125.000000   \n",
            "75%       6.000000  140.250000      80.000000      32.000000  127.250000   \n",
            "max      17.000000  199.000000     122.000000      99.000000  846.000000   \n",
            "\n",
            "              BMI  DiabetesPedigreeFunction         Age     Outcome  \n",
            "count  768.000000                768.000000  768.000000  768.000000  \n",
            "mean    32.455208                  0.471876   33.240885    0.348958  \n",
            "std      6.875177                  0.331329   11.760232    0.476951  \n",
            "min     18.200000                  0.078000   21.000000    0.000000  \n",
            "25%     27.500000                  0.243750   24.000000    0.000000  \n",
            "50%     32.300000                  0.372500   29.000000    0.000000  \n",
            "75%     36.600000                  0.626250   41.000000    1.000000  \n",
            "max     67.100000                  2.420000   81.000000    1.000000  \n"
          ]
        }
      ],
      "source": [
        "import pandas as pd\n",
        "import numpy as np\n",
        "from sklearn.impute import SimpleImputer\n",
        "\n",
        "# Load the dataset\n",
        "data = pd.read_csv('/content/diabetes.csv')\n",
        "\n",
        "# Display the first few rows of the dataset\n",
        "print(data.head())\n",
        "\n",
        "# Check for zero entries in columns that shouldn't have zeros\n",
        "print((data == 0).sum())\n",
        "\n",
        "# Replace zeros with NaN in specific columns\n",
        "cols_with_zeros = ['Glucose', 'BloodPressure', 'SkinThickness', 'Insulin', 'BMI']\n",
        "data[cols_with_zeros] = data[cols_with_zeros].replace({0: np.nan})\n",
        "\n",
        "# Display summary of the dataset to check for NaNs\n",
        "print(data.info())\n",
        "\n",
        "# Fill NaNs with the median value of each column\n",
        "imputer = SimpleImputer(strategy='median')\n",
        "data[cols_with_zeros] = imputer.fit_transform(data[cols_with_zeros])\n",
        "\n",
        "# Verify that there are no more NaNs\n",
        "print(data.info())\n",
        "\n",
        "# Check the distribution of the data\n",
        "print(data.describe())\n"
      ]
    },
    {
      "cell_type": "code",
      "source": [
        "from sklearn.preprocessing import StandardScaler\n",
        "from sklearn.model_selection import cross_val_score, KFold\n",
        "from sklearn.neighbors import KNeighborsClassifier\n",
        "from sklearn.tree import DecisionTreeClassifier\n",
        "\n",
        "# Separate features and target variable\n",
        "X = data.drop('Outcome', axis=1)\n",
        "y = data['Outcome']\n",
        "\n",
        "# Standardize the features\n",
        "scaler = StandardScaler()\n",
        "X_scaled = scaler.fit_transform(X)\n",
        "\n",
        "# Define the models\n",
        "knn = KNeighborsClassifier()\n",
        "dt = DecisionTreeClassifier(random_state=42)\n",
        "\n",
        "# Define k-fold cross-validation\n",
        "kf = KFold(n_splits=10, shuffle=True, random_state=42)\n",
        "\n",
        "# Evaluate KNN with cross-validation\n",
        "knn_scores = cross_val_score(knn, X_scaled, y, cv=kf, scoring='accuracy')\n",
        "print(f'KNN Mean Accuracy: {knn_scores.mean()}')\n",
        "print(f'KNN Standard Deviation: {knn_scores.std()}')\n",
        "\n",
        "# Evaluate Decision Tree with cross-validation\n",
        "dt_scores = cross_val_score(dt, X, y, cv=kf, scoring='accuracy')\n",
        "print(f'Decision Tree Mean Accuracy: {dt_scores.mean()}')\n",
        "print(f'Decision Tree Standard Deviation: {dt_scores.std()}')\n"
      ],
      "metadata": {
        "colab": {
          "base_uri": "https://localhost:8080/"
        },
        "id": "7NXIZshkG-2Q",
        "outputId": "98cbca20-7a4d-4d75-dada-bdcaf7b75707"
      },
      "execution_count": 2,
      "outputs": [
        {
          "output_type": "stream",
          "name": "stdout",
          "text": [
            "KNN Mean Accuracy: 0.735663021189337\n",
            "KNN Standard Deviation: 0.059518898446810464\n",
            "Decision Tree Mean Accuracy: 0.706971975393028\n",
            "Decision Tree Standard Deviation: 0.06324424749779516\n"
          ]
        }
      ]
    }
  ]
}