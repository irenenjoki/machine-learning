{
  "nbformat": 4,
  "nbformat_minor": 0,
  "metadata": {
    "colab": {
      "provenance": [],
      "authorship_tag": "ABX9TyMZCLaowbsssFvZy9hNgppm",
      "include_colab_link": true
    },
    "kernelspec": {
      "name": "python3",
      "display_name": "Python 3"
    },
    "language_info": {
      "name": "python"
    }
  },
  "cells": [
    {
      "cell_type": "markdown",
      "metadata": {
        "id": "view-in-github",
        "colab_type": "text"
      },
      "source": [
        "<a href=\"https://colab.research.google.com/github/irenenjoki/machine-learning/blob/main/dataset_diabetes_.ipynb\" target=\"_parent\"><img src=\"https://colab.research.google.com/assets/colab-badge.svg\" alt=\"Open In Colab\"/></a>"
      ]
    },
    {
      "cell_type": "code",
      "execution_count": 29,
      "metadata": {
        "colab": {
          "base_uri": "https://localhost:8080/"
        },
        "id": "wIHxli8wGdox",
        "outputId": "e211210e-7864-45d5-81f8-d8989ede1768"
      },
      "outputs": [
        {
          "output_type": "stream",
          "name": "stdout",
          "text": [
            "   Pregnancies  Glucose  BloodPressure  SkinThickness  Insulin   BMI  \\\n",
            "0          6.0    148.0           72.0           35.0      NaN  33.6   \n",
            "1          1.0     85.0           66.0           29.0      NaN  26.6   \n",
            "2          8.0    183.0           64.0            NaN      NaN  23.3   \n",
            "3          1.0     89.0           66.0           23.0     94.0  28.1   \n",
            "4          NaN    137.0           40.0           35.0    168.0  43.1   \n",
            "\n",
            "   DiabetesPedigreeFunction  Age  Outcome  \n",
            "0                     0.627   50      1.0  \n",
            "1                     0.351   31      NaN  \n",
            "2                     0.672   32      1.0  \n",
            "3                     0.167   21      NaN  \n",
            "4                     2.288   33      1.0  \n",
            "Pregnancies                 0\n",
            "Glucose                     0\n",
            "BloodPressure               0\n",
            "SkinThickness               0\n",
            "Insulin                     0\n",
            "BMI                         0\n",
            "DiabetesPedigreeFunction    0\n",
            "Age                         0\n",
            "Outcome                     0\n",
            "dtype: int64\n",
            "<class 'pandas.core.frame.DataFrame'>\n",
            "RangeIndex: 768 entries, 0 to 767\n",
            "Data columns (total 9 columns):\n",
            " #   Column                    Non-Null Count  Dtype  \n",
            "---  ------                    --------------  -----  \n",
            " 0   Pregnancies               657 non-null    float64\n",
            " 1   Glucose                   763 non-null    float64\n",
            " 2   BloodPressure             733 non-null    float64\n",
            " 3   SkinThickness             541 non-null    float64\n",
            " 4   Insulin                   394 non-null    float64\n",
            " 5   BMI                       757 non-null    float64\n",
            " 6   DiabetesPedigreeFunction  768 non-null    float64\n",
            " 7   Age                       768 non-null    int64  \n",
            " 8   Outcome                   268 non-null    float64\n",
            "dtypes: float64(8), int64(1)\n",
            "memory usage: 54.1 KB\n",
            "None\n",
            "<class 'pandas.core.frame.DataFrame'>\n",
            "RangeIndex: 768 entries, 0 to 767\n",
            "Data columns (total 9 columns):\n",
            " #   Column                    Non-Null Count  Dtype  \n",
            "---  ------                    --------------  -----  \n",
            " 0   Pregnancies               657 non-null    float64\n",
            " 1   Glucose                   768 non-null    float64\n",
            " 2   BloodPressure             768 non-null    float64\n",
            " 3   SkinThickness             768 non-null    float64\n",
            " 4   Insulin                   768 non-null    float64\n",
            " 5   BMI                       768 non-null    float64\n",
            " 6   DiabetesPedigreeFunction  768 non-null    float64\n",
            " 7   Age                       768 non-null    int64  \n",
            " 8   Outcome                   268 non-null    float64\n",
            "dtypes: float64(8), int64(1)\n",
            "memory usage: 54.1 KB\n",
            "None\n",
            "       Pregnancies     Glucose  BloodPressure  SkinThickness     Insulin  \\\n",
            "count   657.000000  768.000000     768.000000     768.000000  768.000000   \n",
            "mean      4.494673  121.656250      72.386719      29.108073  140.671875   \n",
            "std       3.217291   30.438286      12.096642       8.791221   86.383060   \n",
            "min       1.000000   44.000000      24.000000       7.000000   14.000000   \n",
            "25%       2.000000   99.750000      64.000000      25.000000  121.500000   \n",
            "50%       4.000000  117.000000      72.000000      29.000000  125.000000   \n",
            "75%       7.000000  140.250000      80.000000      32.000000  127.250000   \n",
            "max      17.000000  199.000000     122.000000      99.000000  846.000000   \n",
            "\n",
            "              BMI  DiabetesPedigreeFunction         Age  Outcome  \n",
            "count  768.000000                768.000000  768.000000    268.0  \n",
            "mean    32.455208                  0.471876   33.240885      1.0  \n",
            "std      6.875177                  0.331329   11.760232      0.0  \n",
            "min     18.200000                  0.078000   21.000000      1.0  \n",
            "25%     27.500000                  0.243750   24.000000      1.0  \n",
            "50%     32.300000                  0.372500   29.000000      1.0  \n",
            "75%     36.600000                  0.626250   41.000000      1.0  \n",
            "max     67.100000                  2.420000   81.000000      1.0  \n"
          ]
        }
      ],
      "source": [
        "# QUIZ1 1.Convert the invalid zeros to nulls. A null value will appear as NaN when viewed using pandas but it will be blank when viewed in Excel. The reason for doing this conversion is that NaNs can be filled quite easily using scikit learn.\n",
        "import pandas as pd\n",
        "import numpy as np\n",
        "from sklearn.impute import SimpleImputer\n",
        "\n",
        "# Load the dataset\n",
        "data = pd.read_csv('/content/diabetes.csv')\n",
        "\n",
        "# Display the first few rows of the dataset\n",
        "print(data.head())\n",
        "\n",
        "# Check for zero entries in columns that shouldn't have zeros\n",
        "print((data == 0).sum())\n",
        "\n",
        "# Replace zeros with NaN in specific columns\n",
        "cols_with_zeros = ['Glucose', 'BloodPressure', 'SkinThickness', 'Insulin', 'BMI']\n",
        "data[cols_with_zeros] = data[cols_with_zeros].replace({0: np.nan})\n",
        "\n",
        "# Display summary of the dataset to check for NaNs\n",
        "print(data.info())\n",
        "\n",
        "# Fill NaNs with the median value of each column\n",
        "imputer = SimpleImputer(strategy='median')\n",
        "data[cols_with_zeros] = imputer.fit_transform(data[cols_with_zeros])\n",
        "\n",
        "# Verify that there are no more NaNs\n",
        "print(data.info())\n",
        "\n",
        "# Check the distribution of the data\n",
        "print(data.describe())\n"
      ]
    },
    {
      "cell_type": "code",
      "source": [
        "#QUIZ2 2. Convert the nulls into the mean or median value as we did with the California housing prices dataset.\n",
        "import pandas as pd\n",
        "import numpy as np\n",
        "\n",
        "# Load your dataset into a pandas DataFrame (replace '/path/to/your/dataset.csv' with your actual file path)\n",
        "data = pd.read_csv('/content/diabetes.csv')\n",
        "\n",
        "# Specify columns with NaN values that need to be filled with mean\n",
        "null_columns = ['Pregnancies', 'Glucose', 'BloodPressure', 'SkinThickness', 'Insulin', 'BMI', 'Age', 'Outcome']\n",
        "\n",
        "# Calculate mean values for each column\n",
        "mean_values = data[null_columns].mean()\n",
        "\n",
        "# Fill NaNs with mean values\n",
        "data[null_columns] = data[null_columns].fillna(mean_values)\n",
        "\n",
        "# Display the first 20 rows of the updated DataFrame\n",
        "print(data.head())\n",
        "\n"
      ],
      "metadata": {
        "colab": {
          "base_uri": "https://localhost:8080/"
        },
        "id": "fK1L6vV-DBWa",
        "outputId": "c96e8434-90de-40cb-c917-6a74dbdca9cc"
      },
      "execution_count": 32,
      "outputs": [
        {
          "output_type": "stream",
          "name": "stdout",
          "text": [
            "   Pregnancies  Glucose  BloodPressure  SkinThickness     Insulin   BMI  \\\n",
            "0     6.000000    148.0           72.0       35.00000  155.548223  33.6   \n",
            "1     1.000000     85.0           66.0       29.00000  155.548223  26.6   \n",
            "2     8.000000    183.0           64.0       29.15342  155.548223  23.3   \n",
            "3     1.000000     89.0           66.0       23.00000   94.000000  28.1   \n",
            "4     4.494673    137.0           40.0       35.00000  168.000000  43.1   \n",
            "\n",
            "   DiabetesPedigreeFunction  Age  Outcome  \n",
            "0                     0.627   50      1.0  \n",
            "1                     0.351   31      1.0  \n",
            "2                     0.672   32      1.0  \n",
            "3                     0.167   21      1.0  \n",
            "4                     2.288   33      1.0  \n"
          ]
        }
      ]
    },
    {
      "cell_type": "code",
      "source": [
        "#QUIZ3 B. Once you have finished preprocessing the data, carry out k-fold cross-validation on the following two algorithms:KNN Decision tree\n",
        "from sklearn.preprocessing import StandardScaler\n",
        "from sklearn.model_selection import cross_val_score, KFold\n",
        "from sklearn.neighbors import KNeighborsClassifier\n",
        "from sklearn.tree import DecisionTreeClassifier\n",
        "\n",
        "# Separate features and target variable\n",
        "X = data.drop('Outcome', axis=1)\n",
        "y = data['Outcome']\n",
        "\n",
        "# Standardize the features\n",
        "scaler = StandardScaler()\n",
        "X_scaled = scaler.fit_transform(X)\n",
        "\n",
        "# Define the models\n",
        "knn = KNeighborsClassifier()\n",
        "dt = DecisionTreeClassifier(random_state=42)\n",
        "\n",
        "# Define k-fold cross-validation\n",
        "kf = KFold(n_splits=10, shuffle=True, random_state=42)\n",
        "\n",
        "# Evaluate KNN with cross-validation\n",
        "knn_scores = cross_val_score(knn, X_scaled, y, cv=kf, scoring='accuracy')\n",
        "print(f'KNN Mean Accuracy: {knn_scores.mean()}')\n",
        "print(f'KNN Standard Deviation: {knn_scores.std()}')\n",
        "\n",
        "# Evaluate Decision Tree with cross-validation\n",
        "dt_scores = cross_val_score(dt, X, y, cv=kf, scoring='accuracy')\n",
        "print(f'Decision Tree Mean Accuracy: {dt_scores.mean()}')\n",
        "print(f'Decision Tree Standard Deviation: {dt_scores.std()}')\n"
      ],
      "metadata": {
        "colab": {
          "base_uri": "https://localhost:8080/"
        },
        "id": "7NXIZshkG-2Q",
        "outputId": "3950a198-fe51-4f41-cc8e-4f2cb7a692a8",
        "collapsed": true
      },
      "execution_count": 31,
      "outputs": [
        {
          "output_type": "stream",
          "name": "stdout",
          "text": [
            "KNN Mean Accuracy: 1.0\n",
            "KNN Standard Deviation: 0.0\n",
            "Decision Tree Mean Accuracy: 1.0\n",
            "Decision Tree Standard Deviation: 0.0\n"
          ]
        }
      ]
    }
  ]
}